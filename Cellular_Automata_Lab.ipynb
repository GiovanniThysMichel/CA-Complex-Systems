{
  "nbformat": 4,
  "nbformat_minor": 0,
  "metadata": {
    "colab": {
      "name": "Cellular_Automata_Lab.ipynb",
      "provenance": [],
      "include_colab_link": true
    },
    "kernelspec": {
      "name": "python3",
      "display_name": "Python 3"
    }
  },
  "cells": [
    {
      "cell_type": "markdown",
      "metadata": {
        "id": "view-in-github",
        "colab_type": "text"
      },
      "source": [
        "<a href=\"https://colab.research.google.com/github/logicwic/project1_odin/blob/main/Cellular_Automata_Lab.ipynb\" target=\"_parent\"><img src=\"https://colab.research.google.com/assets/colab-badge.svg\" alt=\"Open In Colab\"/></a>"
      ]
    },
    {
      "cell_type": "markdown",
      "metadata": {
        "id": "jGAC86b_9fse"
      },
      "source": [
        "# Cellular Automata"
      ]
    },
    {
      "cell_type": "markdown",
      "metadata": {
        "id": "mwXioCVP9z41"
      },
      "source": [
        "### Watch https://www.youtube.com/watch?v=_eC14GonZnU"
      ]
    },
    {
      "cell_type": "markdown",
      "metadata": {
        "id": "LoK68Aky9Xb6"
      },
      "source": [
        "## Method 1 Spreadsheet"
      ]
    },
    {
      "cell_type": "markdown",
      "metadata": {
        "id": "N1K_pV0_Zj5E"
      },
      "source": [
        "[Cellular Automata Google Sheet](https://docs.google.com/spreadsheets/d/1kx-o9iB0E52b3i3HETn5JZBoOf5gWNtEOsHpEpMUD-A/edit?usp=sharing)"
      ]
    },
    {
      "cell_type": "markdown",
      "metadata": {
        "id": "uZyo4rjZ9nZ5"
      },
      "source": [
        "## Method 2 Lookup Table"
      ]
    },
    {
      "cell_type": "code",
      "metadata": {
        "id": "drHX1cz1Urpx"
      },
      "source": [
        "import numpy as np\n",
        "import matplotlib.pyplot as plt"
      ],
      "execution_count": 1,
      "outputs": []
    },
    {
      "cell_type": "code",
      "metadata": {
        "id": "ZvNFBrihU2dW",
        "outputId": "d2e566c0-cd1e-4425-9314-261113104760",
        "colab": {
          "base_uri": "https://localhost:8080/"
        }
      },
      "source": [
        "C = np.zeros((100,100)).astype(int)\n",
        "print(C)"
      ],
      "execution_count": 3,
      "outputs": [
        {
          "output_type": "stream",
          "name": "stdout",
          "text": [
            "[[0 0 0 ... 0 0 0]\n",
            " [0 0 0 ... 0 0 0]\n",
            " [0 0 0 ... 0 0 0]\n",
            " ...\n",
            " [0 0 0 ... 0 0 0]\n",
            " [0 0 0 ... 0 0 0]\n",
            " [0 0 0 ... 0 0 0]]\n"
          ]
        }
      ]
    },
    {
      "cell_type": "code",
      "metadata": {
        "id": "UcxVyj9hU_3k"
      },
      "source": [
        "def plot(x):\n",
        "    fig, ax = plt.subplots()\n",
        "    im = ax.imshow(x, cmap = 'gray')\n",
        "    ax.axis('off')\n",
        "    fig.set_size_inches(10, 10)\n",
        "    plt.show()"
      ],
      "execution_count": 5,
      "outputs": []
    },
    {
      "cell_type": "code",
      "metadata": {
        "id": "5ArMOGZEVXdW",
        "colab": {
          "base_uri": "https://localhost:8080/",
          "height": 575
        },
        "outputId": "ff40472e-ebff-4ccf-9c24-0a6762ea39fb"
      },
      "source": [
        "plot(C)"
      ],
      "execution_count": 6,
      "outputs": [
        {
          "output_type": "display_data",
          "data": {
            "image/png": "[encoded data removed]",
            "text/plain": [
              "<Figure size 720x720 with 1 Axes>"
            ]
          },
          "metadata": {
            "needs_background": "light"
          }
        }
      ]
    },
    {
      "cell_type": "code",
      "metadata": {
        "id": "PlA4yWBcVYjg"
      },
      "source": [
        "C[0,50] = 1 "
      ],
      "execution_count": 7,
      "outputs": []
    },
    {
      "cell_type": "code",
      "metadata": {
        "id": "TkJ-nFfgVixx",
        "colab": {
          "base_uri": "https://localhost:8080/",
          "height": 575
        },
        "outputId": "b374a172-c655-4217-a46f-2e732e584c47"
      },
      "source": [
        "plot(C)"
      ],
      "execution_count": 8,
      "outputs": [
        {
          "output_type": "display_data",
          "data": {
            "image/png": "[encoded data removed]",
            "text/plain": [
              "<Figure size 720x720 with 1 Axes>"
            ]
          },
          "metadata": {
            "needs_background": "light"
          }
        }
      ]
    },
    {
      "cell_type": "markdown",
      "metadata": {
        "id": "LuzWYxOYz9qA"
      },
      "source": [
        "<img src = 'https://mathworld.wolfram.com/images/eps-gif/ElementaryCARule090_1000.gif'>"
      ]
    },
    {
      "cell_type": "code",
      "metadata": {
        "id": "sTNinSjG3wTB",
        "colab": {
          "base_uri": "https://localhost:8080/",
          "height": 35
        },
        "outputId": "7610946d-1160-48a1-922d-60d3804441c3"
      },
      "source": [
        "bin(90)"
      ],
      "execution_count": 9,
      "outputs": [
        {
          "output_type": "execute_result",
          "data": {
            "application/vnd.google.colaboratory.intrinsic+json": {
              "type": "string"
            },
            "text/plain": [
              "'0b1011010'"
            ]
          },
          "metadata": {},
          "execution_count": 9
        }
      ]
    },
    {
      "cell_type": "code",
      "metadata": {
        "id": "lDAb0-my2UT4",
        "outputId": "55ebed11-42c3-477b-b339-f70e6a24554b",
        "colab": {
          "base_uri": "https://localhost:8080/"
        }
      },
      "source": [
        "rule = np.zeros((2,2,2))\n",
        "print(rule)"
      ],
      "execution_count": 28,
      "outputs": [
        {
          "output_type": "stream",
          "name": "stdout",
          "text": [
            "[[[0. 0.]\n",
            "  [0. 0.]]\n",
            "\n",
            " [[0. 0.]\n",
            "  [0. 0.]]]\n"
          ]
        }
      ]
    },
    {
      "cell_type": "code",
      "metadata": {
        "id": "t0qeGmlZ2oMi"
      },
      "source": [
        "rule[0,0,0] = 0\n",
        "rule[0,0,1] = 1\n",
        "rule[0,1,0] = 0\n",
        "rule[0,1,1] = 1\n",
        "rule[1,0,0] = 1\n",
        "rule[1,0,1] = 0\n",
        "rule[1,1,0] = 1\n",
        "rule[1,1,1] = 0\n"
      ],
      "execution_count": 37,
      "outputs": []
    },
    {
      "cell_type": "code",
      "metadata": {
        "id": "G_gZIdmp56D2"
      },
      "source": [
        "def CA(X):\n",
        "\n",
        "    for i in range(1,X.shape[0]-1): #row\n",
        "        for j in range(1,X.shape[1]-1): #col\n",
        "\n",
        "            N  = X[i-1,j]\n",
        "            NW = X[i-1,j-1]\n",
        "            NE = X[i-1,j+1]\n",
        "\n",
        "            X[i,j] = rule[NW,N,NE]\n",
        "\n",
        "    return X\n"
      ],
      "execution_count": 38,
      "outputs": []
    },
    {
      "cell_type": "code",
      "metadata": {
        "id": "yfOsxySl3dyx",
        "colab": {
          "base_uri": "https://localhost:8080/",
          "height": 575
        },
        "outputId": "8f9b55c2-7a2a-444e-be4c-6c5966d85e4f"
      },
      "source": [
        "plot(CA(C))"
      ],
      "execution_count": 39,
      "outputs": [
        {
          "output_type": "display_data",
          "data": {
            "image/png": "[encoded data removed]",
            "text/plain": [
              "<Figure size 720x720 with 1 Axes>"
            ]
          },
          "metadata": {
            "needs_background": "light"
          }
        }
      ]
    },
    {
      "cell_type": "code",
      "metadata": {
        "id": "L1aoRWLt3d1F"
      },
      "source": [
        ""
      ],
      "execution_count": null,
      "outputs": []
    },
    {
      "cell_type": "markdown",
      "metadata": {
        "id": "ixqfbTnb9ts0"
      },
      "source": [
        "## Method 3 Direct Formula "
      ]
    },
    {
      "cell_type": "code",
      "metadata": {
        "id": "46gjRM2zVyWY"
      },
      "source": [
        "def CA(X):\n",
        "\n",
        "    for i in range(1,X.shape[0]-1): #row\n",
        "        for j in range(1,X.shape[1]-1): #col\n",
        "\n",
        "            X[i,j] = (rule/(2**(4*X[i-1,j-1] + 2*X[i-1,j] + X[i-1,j+1]))) % 2\n",
        "\n",
        "    return X"
      ],
      "execution_count": 40,
      "outputs": []
    },
    {
      "cell_type": "code",
      "metadata": {
        "id": "p06mQ-SmWPtj"
      },
      "source": [
        "rule = 90"
      ],
      "execution_count": 41,
      "outputs": []
    },
    {
      "cell_type": "code",
      "metadata": {
        "id": "bYJnox68WPwl",
        "colab": {
          "base_uri": "https://localhost:8080/",
          "height": 575
        },
        "outputId": "02f677ae-7c40-441b-e532-6ccc63145780"
      },
      "source": [
        "plot(CA(C))"
      ],
      "execution_count": null,
      "outputs": [
        {
          "output_type": "display_data",
          "data": {
            "image/png": "[encoded data removed]",
            "text/plain": [
              "<Figure size 720x720 with 1 Axes>"
            ]
          },
          "metadata": {
            "tags": [],
            "needs_background": "light"
          }
        }
      ]
    },
    {
      "cell_type": "code",
      "metadata": {
        "id": "fXMhIuwMYx7M"
      },
      "source": [
        ""
      ],
      "execution_count": null,
      "outputs": []
    },
    {
      "cell_type": "code",
      "metadata": {
        "id": "JWfOIdlbzfsH"
      },
      "source": [
        ""
      ],
      "execution_count": null,
      "outputs": []
    },
    {
      "cell_type": "code",
      "metadata": {
        "id": "GYlnof2izfus"
      },
      "source": [
        ""
      ],
      "execution_count": null,
      "outputs": []
    }
  ]
}